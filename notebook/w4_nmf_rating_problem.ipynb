{
 "cells": [
  {
   "cell_type": "markdown",
   "id": "68347813",
   "metadata": {},
   "source": [
    "# Movie Ratings Prediction using Non-Negative Matrix Factorization\n",
    "\n",
    "## Project Overview\n",
    "\n",
    "### Objective\n",
    "This project explores the application of **Non-Negative Matrix Factorization (NMF)** for predicting missing movie ratings and investigates the limitations of sklearn's NMF implementation compared to traditional recommender system approaches.\n",
    "\n",
    "### Problem Statement\n",
    "**Limitation(s) of sklearn's non-negative matrix factorization library** \n",
    "\n",
    "#### Part 1: NMF Implementation \n",
    "- Load the movie ratings dataset (from HW3-recommender-system)\n",
    "- Apply sklearn's Non-Negative Matrix Factorization (NMF) technique\n",
    "- Predict missing ratings from the test data\n",
    "- Measure prediction performance using **RMSE**\n",
    "\n",
    "#### Part 2: Critical Analysis \n",
    "- Analyze and discuss the results obtained from sklearn's NMF\n",
    "- Compare performance with baseline and similarity-based methods from Module 3\n",
    "- Identify why NMF may underperform compared to simpler approaches\n",
    "- Propose potential solutions and improvements to enhance NMF performance\n",
    "\n",
    "### Dataset\n",
    "-  [MovieLense](https://grouplens.org/datasets/movielens/) has currently 25 million user-movie ratings.  Since the entire data is too big, we use  a 1 million ratings subset [MovieLens 1M](https://www.kaggle.com/odedgolden/movielens-1m-dataset), and we reformatted the data to make it more convenient to use.\n",
    "\n",
    "\n"
   ]
  },
  {
   "cell_type": "markdown",
   "id": "3d36b204",
   "metadata": {},
   "source": [
    "# 1. Load the movie ratings dataset"
   ]
  },
  {
   "cell_type": "code",
   "execution_count": 21,
   "id": "a305ccef",
   "metadata": {},
   "outputs": [
    {
     "name": "stdout",
     "output_type": "stream",
     "text": [
      "    uID   mID  rating\n",
      "0   744  1210       5\n",
      "1  3040  1584       4\n",
      "2  1451  1293       5\n",
      "3  5455  3176       2\n",
      "4  2507  3074       5\n",
      "    uID   mID  rating\n",
      "0  2233   440       4\n",
      "1  4274   587       5\n",
      "2  2498   454       3\n",
      "3  2868  2336       5\n",
      "4  1636  2686       5\n"
     ]
    }
   ],
   "source": [
    "\n",
    "import pandas as pd\n",
    "from collections import namedtuple\n",
    "import numpy as np\n",
    "from scipy.sparse import coo_matrix\n",
    "from sklearn.decomposition import NMF\n",
    "import matplotlib.pyplot as plt\n",
    "import seaborn as sns\n",
    "\n",
    "MV_users = pd.read_csv('../data/users.csv')\n",
    "MV_movies = pd.read_csv('../data/movies.csv')\n",
    "train = pd.read_csv('../data/train.csv')\n",
    "test = pd.read_csv('../data/test.csv')\n",
    "\n",
    "\n",
    "Data = namedtuple('Data', ['users','movies','train','test'])\n",
    "data = Data(MV_users, MV_movies, train, test)\n",
    "# print(data.movies.info())\n",
    "# print(data.users.info())\n",
    "print(data.train.head())    \n",
    "print(data.test.head())"
   ]
  },
  {
   "cell_type": "markdown",
   "id": "9cb8902a",
   "metadata": {},
   "source": [
    "## 2. Part 1: NMF Implementation [10 pts]\n",
    "\n",
    "### 2.1 Create Utility Matrix\n",
    "\n",
    "First, we need to convert the training data into a user-item rating matrix that NMF can process.\n"
   ]
  },
  {
   "cell_type": "code",
   "execution_count": 22,
   "id": "44eda4d4",
   "metadata": {},
   "outputs": [
    {
     "name": "stdout",
     "output_type": "stream",
     "text": [
      "Utility Matrix Shape: (6040, 3883)\n",
      "Matrix sparsity: 97.01%\n"
     ]
    }
   ],
   "source": [
    "\n",
    "# Create mapping dictionaries\n",
    "allusers = list(data.users['uID'])\n",
    "allmovies = list(data.movies['mID'])\n",
    "\n",
    "mid2idx = dict(zip(data.movies.mID, list(range(len(data.movies)))))\n",
    "uid2idx = dict(zip(data.users.uID, list(range(len(data.users)))))\n",
    "\n",
    "# Convert train data to utility matrix\n",
    "ind_movie = [mid2idx[x] for x in data.train.mID]\n",
    "ind_user = [uid2idx[x] for x in data.train.uID]\n",
    "rating_train = list(data.train.rating)\n",
    "\n",
    "# Create rating matrix as numpy array\n",
    "Mr = np.array(coo_matrix((rating_train, (ind_user, ind_movie)), shape=(len(allusers), len(allmovies))).toarray())\n",
    "                          \n",
    "print(f\"Utility Matrix Shape: {Mr.shape}\")\n",
    "print(f\"Matrix sparsity: {(Mr == 0).sum() / Mr.size * 100:.2f}%\")\n"
   ]
  },
  {
   "cell_type": "markdown",
   "id": "cc4310f5",
   "metadata": {},
   "source": [
    "### 2.2 Apply NMF for Matrix Factorization\n",
    "\n",
    "NMF decomposes the rating matrix R into two non-negative matrices:\n",
    "- **W (User-Factor matrix)**: Shape (n_users, n_components)\n",
    "- **H (Factor-Movie matrix)**: Shape (n_components, n_movies)\n",
    "\n",
    "The predicted ratings are obtained by: **R_pred = W × H** with n_components =20\n",
    "\n"
   ]
  },
  {
   "cell_type": "code",
   "execution_count": 23,
   "id": "3590f3cf",
   "metadata": {},
   "outputs": [
    {
     "name": "stdout",
     "output_type": "stream",
     "text": [
      "Number of components (latent factors): 20\n",
      "\n",
      "Training NMF model...\n",
      "\n",
      "W (User-Factor) matrix shape: (6040, 20)\n",
      "H (Factor-Movie) matrix shape: (20, 3883)\n"
     ]
    }
   ],
   "source": [
    "# NMF requires non-negative values, so we replace 0s (unrated) with a small positive value\n",
    "# This is a common preprocessing step for NMF\n",
    "Mr_nmf = Mr.copy()\n",
    "Mr_nmf[Mr_nmf == 0] = 0.01  # Replace 0 with small positive value\n",
    "\n",
    "# Apply NMF with different numbers of components\n",
    "n_components = 20  # Number of latent factors\n",
    "print(f\"Number of components (latent factors): {n_components}\")\n",
    "print()\n",
    "\n",
    "# Initialize and fit NMF model with improved convergence settings\n",
    "print(\"Training NMF model...\")\n",
    "nmf_model = NMF(n_components=n_components, init='random',random_state=42,max_iter=500, tol=1e-4, verbose=0)   \n",
    "\n",
    "W = nmf_model.fit_transform(Mr_nmf)\n",
    "H = nmf_model.components_\n",
    "\n",
    "print(f\"\\nW (User-Factor) matrix shape: {W.shape}\")\n",
    "print(f\"H (Factor-Movie) matrix shape: {H.shape}\")\n"
   ]
  },
  {
   "cell_type": "markdown",
   "id": "469eb345",
   "metadata": {},
   "source": [
    "### 2.3 Predict Missing Ratings on Test Set\n"
   ]
  },
  {
   "cell_type": "code",
   "execution_count": 24,
   "id": "09bcac5d",
   "metadata": {},
   "outputs": [],
   "source": [
    "# Reconstruct the full rating matrix\n",
    "R_pred = np.dot(W, H)\n",
    "\n",
    "# Predict ratings for test set\n",
    "predictions = []\n",
    "for idx, row in data.test.iterrows():\n",
    "    uid = row['uID']\n",
    "    mid = row['mID']\n",
    "    \n",
    "    user_idx = uid2idx[uid]\n",
    "    movie_idx = mid2idx[mid]\n",
    "    \n",
    "    predicted_rating = R_pred[user_idx, movie_idx]\n",
    "    predictions.append(predicted_rating)\n",
    "\n",
    "predictions = np.array(predictions)\n",
    "\n",
    "# Handle NaN values by replacing with mean rating\n",
    "predictions[np.isnan(predictions)] = 3.0\n",
    "\n",
    "# Clip predictions to valid rating range [1, 5]\n",
    "predictions = np.clip(predictions, 1, 5)\n"
   ]
  },
  {
   "cell_type": "markdown",
   "id": "c57c79c6",
   "metadata": {},
   "source": [
    "### 2.4 Calculate RMSE\n"
   ]
  },
  {
   "cell_type": "code",
   "execution_count": 25,
   "id": "782cbed8",
   "metadata": {},
   "outputs": [
    {
     "name": "stdout",
     "output_type": "stream",
     "text": [
      "NMF RMSE: 2.5321\n"
     ]
    }
   ],
   "source": [
    "# Calculate RMSE\n",
    "actual_ratings = np.array(data.test.rating)\n",
    "rmse_nmf = np.sqrt(((actual_ratings - predictions)**2).mean())\n",
    "\n",
    "print(f\"NMF RMSE: {rmse_nmf:.4f}\")"
   ]
  },
  {
   "cell_type": "markdown",
   "id": "7505a2b1",
   "metadata": {},
   "source": [
    "## 3. Part 2: Critical Analysis and Comparison \n"
   ]
  },
  {
   "cell_type": "markdown",
   "id": "7d9c0258",
   "metadata": {},
   "source": [
    "\n",
    "\n",
    "| Rank | Method | RMSE | Performance |\n",
    "|------|--------|------|-------------|\n",
    "| 1 | Collaborative Filtering (Jaccard, Mr) | **0.952** | Best |\n",
    "| 2 | Collaborative Filtering (Jaccard, Mr≥3) | 0.982 | +3.2% |\n",
    "| 3 | Collaborative Filtering (Jaccard, Mr≥1) | 0.991 | +4.1% |\n",
    "| 4 | Content-Based (Jaccard) | 1.012 | +6.3% |\n",
    "| 5 | Collaborative Filtering (Cosine) | 1.024 | +7.6% |\n",
    "| 6 | Baseline: User average | 1.035 | +8.7% |\n",
    "| 7 | Baseline: Predict all to 3 | 1.258 | +32.1% |\n",
    "| 8 | **NMF (sklearn)** | **2.532** | **+166.0%** |\n",
    "\n",
    "**Key Findings:**\n",
    "- Best HW3 method: **0.952** (Collaborative Filtering with Jaccard on Mr)\n",
    "- NMF (sklearn): **2.532** \n",
    "- NMF performs **worse than even the simplest baseline** with very big gap (predict all to 3)\n",
    "\n",
    "**Conclusion:** sklearn's NMF significantly underperforms compared to all HW3 methods, including basic baselines. This indicates fundamental issues with applying generic NMF to sparse rating matrices.\n"
   ]
  },
  {
   "cell_type": "markdown",
   "id": "74c28598",
   "metadata": {},
   "source": [
    "### Why sklearn's NMF Underperforms\n",
    "\n",
    "\n",
    "Sklearn's NMF performed poorly (RMSE: 2.5321) compared to similarity-based methods and even the simplest baselines for three primary reasons:\n",
    "\n",
    "**Different Objective:** NMF is an unsupervised dimensionality reduction technique optimized to minimize reconstruction error, not prediction error (RMSE). In contrast, similarity-based methods directly find similar users/items to predict unknown ratings, aligning better with the task's goal.\n",
    "\n",
    "**Sparsity Handling:** Sklearn's NMF is not inherently designed for the high sparsity of recommendation datasets. Replacing unrated entries (zeros) with a small value introduces noise and inaccurate information, leading to a less effective model.\n",
    "\n",
    "**How to Fix It**\n",
    "- Use Specialized Algorithms: Instead of NMF, use matrix factorization algorithms designed for recommendation, such as SVD (Singular Value Decomposition) or ALS (Alternating Least Squares). These are optimized to predict missing ratings in sparse matrices. Libraries like Surprise provide efficient implementations.\n"
   ]
  }
 ],
 "metadata": {
  "kernelspec": {
   "display_name": "venv",
   "language": "python",
   "name": "python3"
  },
  "language_info": {
   "codemirror_mode": {
    "name": "ipython",
    "version": 3
   },
   "file_extension": ".py",
   "mimetype": "text/x-python",
   "name": "python",
   "nbconvert_exporter": "python",
   "pygments_lexer": "ipython3",
   "version": "3.13.7"
  }
 },
 "nbformat": 4,
 "nbformat_minor": 5
}
